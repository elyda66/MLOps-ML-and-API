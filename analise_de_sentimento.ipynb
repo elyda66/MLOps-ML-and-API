{
 "cells": [
  {
   "cell_type": "code",
   "execution_count": 38,
   "metadata": {},
   "outputs": [
    {
     "name": "stdout",
     "output_type": "stream",
     "text": [
      "Requirement already satisfied: textblob in ./API/lib/python3.10/site-packages (0.17.1)\n",
      "Requirement already satisfied: nltk>=3.1 in ./API/lib/python3.10/site-packages (from textblob) (3.9.1)\n",
      "Requirement already satisfied: click in ./API/lib/python3.10/site-packages (from nltk>=3.1->textblob) (8.1.7)\n",
      "Requirement already satisfied: joblib in ./API/lib/python3.10/site-packages (from nltk>=3.1->textblob) (1.4.2)\n",
      "Requirement already satisfied: regex>=2021.8.3 in ./API/lib/python3.10/site-packages (from nltk>=3.1->textblob) (2024.9.11)\n",
      "Requirement already satisfied: tqdm in ./API/lib/python3.10/site-packages (from nltk>=3.1->textblob) (4.66.6)\n",
      "Note: you may need to restart the kernel to use updated packages.\n",
      "Collecting deep-translator\n",
      "  Downloading deep_translator-1.11.4-py3-none-any.whl.metadata (30 kB)\n",
      "Collecting beautifulsoup4<5.0.0,>=4.9.1 (from deep-translator)\n",
      "  Downloading beautifulsoup4-4.12.3-py3-none-any.whl.metadata (3.8 kB)\n",
      "Requirement already satisfied: requests<3.0.0,>=2.23.0 in ./API/lib/python3.10/site-packages (from deep-translator) (2.32.3)\n",
      "Collecting soupsieve>1.2 (from beautifulsoup4<5.0.0,>=4.9.1->deep-translator)\n",
      "  Downloading soupsieve-2.6-py3-none-any.whl.metadata (4.6 kB)\n",
      "Requirement already satisfied: charset-normalizer<4,>=2 in ./API/lib/python3.10/site-packages (from requests<3.0.0,>=2.23.0->deep-translator) (3.4.0)\n",
      "Requirement already satisfied: idna<4,>=2.5 in ./API/lib/python3.10/site-packages (from requests<3.0.0,>=2.23.0->deep-translator) (2.10)\n",
      "Requirement already satisfied: urllib3<3,>=1.21.1 in ./API/lib/python3.10/site-packages (from requests<3.0.0,>=2.23.0->deep-translator) (2.2.3)\n",
      "Requirement already satisfied: certifi>=2017.4.17 in ./API/lib/python3.10/site-packages (from requests<3.0.0,>=2.23.0->deep-translator) (2024.8.30)\n",
      "Downloading deep_translator-1.11.4-py3-none-any.whl (42 kB)\n",
      "Downloading beautifulsoup4-4.12.3-py3-none-any.whl (147 kB)\n",
      "Downloading soupsieve-2.6-py3-none-any.whl (36 kB)\n",
      "Installing collected packages: soupsieve, beautifulsoup4, deep-translator\n",
      "Successfully installed beautifulsoup4-4.12.3 deep-translator-1.11.4 soupsieve-2.6\n",
      "Note: you may need to restart the kernel to use updated packages.\n"
     ]
    }
   ],
   "source": [
    "%pip install textblob\n",
    "%pip install deep-translator"
   ]
  },
  {
   "cell_type": "code",
   "execution_count": 44,
   "metadata": {},
   "outputs": [],
   "source": [
    "from textblob import TextBlob\n",
    "from deep_translator import GoogleTranslator"
   ]
  },
  {
   "cell_type": "code",
   "execution_count": 48,
   "metadata": {},
   "outputs": [],
   "source": [
    "\n",
    "# Traduzindo o texto \n",
    "tradutor = GoogleTranslator(source=\"pt\", target=\"en\")\n",
    "\n",
    "frase = \"Python é ótimo para Machine Learning.\"\n",
    "frase_en = tradutor.translate(frase)\n",
    "\n",
    "# Chamando a biblioteca textblob\n",
    "tb = TextBlob(frase_en)"
   ]
  },
  {
   "cell_type": "code",
   "execution_count": 49,
   "metadata": {},
   "outputs": [
    {
     "data": {
      "text/plain": [
       "TextBlob(\"Python is great for Machine Learning.\")"
      ]
     },
     "execution_count": 49,
     "metadata": {},
     "output_type": "execute_result"
    }
   ],
   "source": [
    "tb"
   ]
  },
  {
   "cell_type": "markdown",
   "metadata": {},
   "source": [
    "Analise de sentimento é indicador que vai de -1 até 1, quanto mais proxima de -1 tem mais probabilidade de ser uma menção negativa e quanto mais proxima de 1 aprobabilidade de ser uma menção positiva."
   ]
  },
  {
   "cell_type": "code",
   "execution_count": 50,
   "metadata": {},
   "outputs": [
    {
     "data": {
      "text/plain": [
       "0.8"
      ]
     },
     "execution_count": 50,
     "metadata": {},
     "output_type": "execute_result"
    }
   ],
   "source": [
    "tb.sentiment.polarity"
   ]
  },
  {
   "cell_type": "code",
   "execution_count": null,
   "metadata": {},
   "outputs": [],
   "source": []
  }
 ],
 "metadata": {
  "kernelspec": {
   "display_name": "API",
   "language": "python",
   "name": "python3"
  },
  "language_info": {
   "codemirror_mode": {
    "name": "ipython",
    "version": 3
   },
   "file_extension": ".py",
   "mimetype": "text/x-python",
   "name": "python",
   "nbconvert_exporter": "python",
   "pygments_lexer": "ipython3",
   "version": "3.10.11"
  }
 },
 "nbformat": 4,
 "nbformat_minor": 2
}
